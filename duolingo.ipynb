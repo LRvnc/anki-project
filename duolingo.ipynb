{
 "metadata": {
  "language_info": {
   "codemirror_mode": {
    "name": "ipython",
    "version": 3
   },
   "file_extension": ".py",
   "mimetype": "text/x-python",
   "name": "python",
   "nbconvert_exporter": "python",
   "pygments_lexer": "ipython3",
   "version": "3.8.8-final"
  },
  "orig_nbformat": 2,
  "kernelspec": {
   "name": "python388jvsc74a57bd01fb8f89dacd0e397ea829618fc82ee4cf51f7ab93be4fcb3763ada6484b46d69",
   "display_name": "Python 3.8.8 64-bit"
  },
  "metadata": {
   "interpreter": {
    "hash": "1fb8f89dacd0e397ea829618fc82ee4cf51f7ab93be4fcb3763ada6484b46d69"
   }
  }
 },
 "nbformat": 4,
 "nbformat_minor": 2,
 "cells": [
  {
   "cell_type": "code",
   "execution_count": 109,
   "metadata": {},
   "outputs": [],
   "source": [
    "# Imports\n",
    "import pandas as pd\n",
    "import numpy as np"
   ]
  },
  {
   "cell_type": "code",
   "execution_count": 110,
   "metadata": {},
   "outputs": [],
   "source": [
    "def write_csv(df, doc_name):\n",
    "    df = df.drop(columns=['Categoria gramatical'])\n",
    "    doc = open(doc_name, 'w')\n",
    "    doc.write(df.to_csv(header=False, index=False))\n",
    "    doc.close()"
   ]
  },
  {
   "cell_type": "code",
   "execution_count": 111,
   "metadata": {},
   "outputs": [
    {
     "output_type": "execute_result",
     "data": {
      "text/plain": [
       "  Palavra Categoria gramatical\n",
       "0    avec          Preposition\n",
       "1    rien              Pronoun\n",
       "2    plus               Adverb\n",
       "3   aimer                 Verb\n",
       "4   grand            Adjective"
      ],
      "text/html": "<div>\n<style scoped>\n    .dataframe tbody tr th:only-of-type {\n        vertical-align: middle;\n    }\n\n    .dataframe tbody tr th {\n        vertical-align: top;\n    }\n\n    .dataframe thead th {\n        text-align: right;\n    }\n</style>\n<table border=\"1\" class=\"dataframe\">\n  <thead>\n    <tr style=\"text-align: right;\">\n      <th></th>\n      <th>Palavra</th>\n      <th>Categoria gramatical</th>\n    </tr>\n  </thead>\n  <tbody>\n    <tr>\n      <th>0</th>\n      <td>avec</td>\n      <td>Preposition</td>\n    </tr>\n    <tr>\n      <th>1</th>\n      <td>rien</td>\n      <td>Pronoun</td>\n    </tr>\n    <tr>\n      <th>2</th>\n      <td>plus</td>\n      <td>Adverb</td>\n    </tr>\n    <tr>\n      <th>3</th>\n      <td>aimer</td>\n      <td>Verb</td>\n    </tr>\n    <tr>\n      <th>4</th>\n      <td>grand</td>\n      <td>Adjective</td>\n    </tr>\n  </tbody>\n</table>\n</div>"
     },
     "metadata": {},
     "execution_count": 111
    }
   ],
   "source": [
    "df = pd.read_csv (r'duolingo-vocab.csv')\n",
    "df = df.drop(columns=['Grau de confiança', 'Última prática'])\n",
    "df = df.dropna()\n",
    "#df.info()\n",
    "df.head()"
   ]
  },
  {
   "cell_type": "code",
   "execution_count": 112,
   "metadata": {},
   "outputs": [
    {
     "output_type": "execute_result",
     "data": {
      "text/plain": [
       "Noun            731\n",
       "Verb            394\n",
       "Adjective       313\n",
       "Adverb          127\n",
       "Pronoun          46\n",
       "Preposition      35\n",
       "Determiner       33\n",
       "Numeral          29\n",
       "Proper noun      14\n",
       "Conjunction      13\n",
       "Interjection      3\n",
       "Name: Categoria gramatical, dtype: int64"
      ]
     },
     "metadata": {},
     "execution_count": 112
    }
   ],
   "source": [
    "df['Categoria gramatical'].value_counts()"
   ]
  },
  {
   "cell_type": "code",
   "execution_count": 113,
   "metadata": {},
   "outputs": [
    {
     "output_type": "execute_result",
     "data": {
      "text/plain": [
       "  Categoria gramatical\n",
       "0          Preposition\n",
       "1              Pronoun\n",
       "2               Adverb\n",
       "3                 Verb\n",
       "4            Adjective"
      ],
      "text/html": "<div>\n<style scoped>\n    .dataframe tbody tr th:only-of-type {\n        vertical-align: middle;\n    }\n\n    .dataframe tbody tr th {\n        vertical-align: top;\n    }\n\n    .dataframe thead th {\n        text-align: right;\n    }\n</style>\n<table border=\"1\" class=\"dataframe\">\n  <thead>\n    <tr style=\"text-align: right;\">\n      <th></th>\n      <th>Categoria gramatical</th>\n    </tr>\n  </thead>\n  <tbody>\n    <tr>\n      <th>0</th>\n      <td>Preposition</td>\n    </tr>\n    <tr>\n      <th>1</th>\n      <td>Pronoun</td>\n    </tr>\n    <tr>\n      <th>2</th>\n      <td>Adverb</td>\n    </tr>\n    <tr>\n      <th>3</th>\n      <td>Verb</td>\n    </tr>\n    <tr>\n      <th>4</th>\n      <td>Adjective</td>\n    </tr>\n  </tbody>\n</table>\n</div>"
     },
     "metadata": {},
     "execution_count": 113
    }
   ],
   "source": [
    "df[['Categoria gramatical']].head()"
   ]
  },
  {
   "cell_type": "code",
   "execution_count": 114,
   "metadata": {},
   "outputs": [],
   "source": [
    "verbos = df.loc[df['Categoria gramatical'] == 'Verb']\n",
    "substantivos = df.loc[df['Categoria gramatical'] == 'Noun']\n",
    "adjetivos = df.loc[df['Categoria gramatical'] == 'Adjective']\n",
    "adverbios = df.loc[df['Categoria gramatical'] == 'Adverb']"
   ]
  },
  {
   "cell_type": "code",
   "execution_count": 116,
   "metadata": {},
   "outputs": [],
   "source": [
    "write_csv(verbos,'duolingo_verbs_csv')"
   ]
  }
 ]
}